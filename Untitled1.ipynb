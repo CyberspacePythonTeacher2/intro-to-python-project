{
  "nbformat": 4,
  "nbformat_minor": 0,
  "metadata": {
    "colab": {
      "name": "Untitled1.ipynb",
      "provenance": [],
      "authorship_tag": "ABX9TyOMurrihWWFSUG+qTQDVBCm",
      "include_colab_link": true
    },
    "kernelspec": {
      "name": "python3",
      "display_name": "Python 3"
    },
    "language_info": {
      "name": "python"
    }
  },
  "cells": [
    {
      "cell_type": "markdown",
      "metadata": {
        "id": "view-in-github",
        "colab_type": "text"
      },
      "source": [
        "<a href=\"https://colab.research.google.com/github/CyberspacePythonTeacher2/intro-to-python-project/blob/main/Untitled1.ipynb\" target=\"_parent\"><img src=\"https://colab.research.google.com/assets/colab-badge.svg\" alt=\"Open In Colab\"/></a>"
      ]
    },
    {
      "cell_type": "code",
      "execution_count": 9,
      "metadata": {
        "id": "e7-8I56NdnhM",
        "outputId": "8b08acb6-f8f9-42a0-8bdf-0a118517788e",
        "colab": {
          "base_uri": "https://localhost:8080/"
        }
      },
      "outputs": [
        {
          "output_type": "stream",
          "name": "stdout",
          "text": [
            "Hello world\n",
            "you are correct\n"
          ]
        }
      ],
      "source": [
        "print(\"Hello world\")\n",
        "#this is a single line comment \n",
        "\n",
        "\"\"\"this is a multiple line comment \n",
        "you can write everthig between this prantice  \n",
        "\"\"\"\n",
        "if 5>2:\n",
        " print(\"you are correct\")"
      ]
    },
    {
      "cell_type": "code",
      "source": [
        "if 5>2:\n",
        " print(\"it is right\")\n",
        "if 5<2:\n",
        " print (\"you are doing wrong\")"
      ],
      "metadata": {
        "colab": {
          "base_uri": "https://localhost:8080/"
        },
        "id": "gRup3dUJq0B2",
        "outputId": "3233c0a2-6ace-430a-b53e-2b5d6a0a88af"
      },
      "execution_count": 7,
      "outputs": [
        {
          "output_type": "stream",
          "name": "stdout",
          "text": [
            "it is right\n"
          ]
        }
      ]
    },
    {
      "cell_type": "code",
      "source": [
        "# import random module\n",
        "import random\n",
        "\n",
        "# Print multiline instruction\n",
        "# performstring concatenation of string\n",
        "print(\"Winning Rules of the Rock paper scissor game as follows: \\n\"\n",
        "\t\t\t\t\t\t\t\t+\"Rock vs paper->paper wins \\n\"\n",
        "\t\t\t\t\t\t\t\t+ \"Rock vs scissor->Rock wins \\n\"\n",
        "\t\t\t\t\t\t\t\t+\"paper vs scissor->scissor wins \\n\")\n",
        "\n",
        "while True:\n",
        "\tprint(\"Enter choice \\n 1 for Rock, \\n 2 for paper, and \\n 3 for scissor \\n\")\n",
        "\t\n",
        "\t# take the input from user\n",
        "\tchoice = int(input(\"User turn: \"))\n",
        "\n",
        "\t# OR is the short-circuit operator\n",
        "\t# if any one of the condition is true\n",
        "\t# then it return True value\n",
        "\t\n",
        "\t# looping until user enter invalid input\n",
        "\twhile choice > 3 or choice < 1:\n",
        "\t\tchoice = int(input(\"enter valid input: \"))\n",
        "\t\t\n",
        "\n",
        "\t# initialize value of choice_name variable\n",
        "\t# corresponding to the choice value\n",
        "\tif choice == 1:\n",
        "\t\tchoice_name = 'Rock'\n",
        "\telif choice == 2:\n",
        "\t\tchoice_name = 'paper'\n",
        "\telse:\n",
        "\t\tchoice_name = 'scissor'\n",
        "\t\t\n",
        "\t# print user choice\n",
        "\tprint(\"user choice is: \" + choice_name)\n",
        "\tprint(\"\\nNow its computer turn.......\")\n",
        "\n",
        "\t# Computer chooses randomly any number\n",
        "\t# among 1 , 2 and 3. Using randint method\n",
        "\t# of random module\n",
        "\tcomp_choice = random.randint(1, 3)\n",
        "\t\n",
        "\t# looping until comp_choice value\n",
        "\t# is equal to the choice value\n",
        "\twhile comp_choice == choice:\n",
        "\t\tcomp_choice = random.randint(1, 3)\n",
        "\n",
        "\t# initialize value of comp_choice_name\n",
        "\t# variable corresponding to the choice value\n",
        "\tif comp_choice == 1:\n",
        "\t\tcomp_choice_name = 'Rock'\n",
        "\telif comp_choice == 2:\n",
        "\t\tcomp_choice_name = 'paper'\n",
        "\telse:\n",
        "\t\tcomp_choice_name = 'scissor'\n",
        "\t\t\n",
        "\tprint(\"Computer choice is: \" + comp_choice_name)\n",
        "\n",
        "\tprint(choice_name + \" V/s \" + comp_choice_name)\n",
        "\n",
        "\t# condition for winning\n",
        "\tif((choice == 1 and comp_choice == 2) or\n",
        "\t(choice == 2 and comp_choice ==1 )):\n",
        "\t\tprint(\"paper wins => \", end = \"\")\n",
        "\t\tresult = \"paper\"\n",
        "\t\t\n",
        "\telif((choice == 1 and comp_choice == 3) or\n",
        "\t\t(choice == 3 and comp_choice == 1)):\n",
        "\t\tprint(\"Rock wins =>\", end = \"\")\n",
        "\t\tresult = \"Rock\"\n",
        "\telse:\n",
        "\t\tprint(\"scissor wins =>\", end = \"\")\n",
        "\t\tresult = \"scissor\"\n",
        "\n",
        "\t# Printing either user or computer wins\n",
        "\tif result == choice_name:\n",
        "\t\tprint(\"<== User wins ==>\")\n",
        "\telse:\n",
        "\t\tprint(\"<== Computer wins ==>\")\n",
        "\t\t\n",
        "\tprint(\"Do you want to play again? (Y/N)\")\n",
        "\tans = input()\n",
        "\n",
        "\n",
        "\t# if user input n or N then condition is True\n",
        "\tif ans == 'n' or ans == 'N':\n",
        "\t\tbreak\n",
        "\t\n",
        "# after coming out of the while loop\n",
        "# we print thanks for playing\n",
        "print(\"\\nThanks for playing\")\n"
      ],
      "metadata": {
        "colab": {
          "base_uri": "https://localhost:8080/"
        },
        "id": "9e_zMdspqmnZ",
        "outputId": "a2485801-5abc-403e-ae98-db370f7ebad3"
      },
      "execution_count": 2,
      "outputs": [
        {
          "output_type": "stream",
          "name": "stdout",
          "text": [
            "Winning Rules of the Rock paper scissor game as follows: \n",
            "Rock vs paper->paper wins \n",
            "Rock vs scissor->Rock wins \n",
            "paper vs scissor->scissor wins \n",
            "\n",
            "Enter choice \n",
            " 1 for Rock, \n",
            " 2 for paper, and \n",
            " 3 for scissor \n",
            "\n",
            "User turn: 1\n",
            "user choice is: Rock\n",
            "\n",
            "Now its computer turn.......\n",
            "Computer choice is: scissor\n",
            "Rock V/s scissor\n",
            "Rock wins =><== User wins ==>\n",
            "Do you want to play again? (Y/N)\n",
            "n\n",
            "\n",
            "Thanks for playing\n"
          ]
        }
      ]
    },
    {
      "cell_type": "markdown",
      "source": [
        "# New section"
      ],
      "metadata": {
        "id": "97O1Hg5aLF3o"
      }
    },
    {
      "cell_type": "code",
      "source": [
        ""
      ],
      "metadata": {
        "id": "Wq2cdtucqjrz"
      },
      "execution_count": null,
      "outputs": []
    },
    {
      "cell_type": "code",
      "source": [
        ""
      ],
      "metadata": {
        "id": "PwGNHknpqiyj"
      },
      "execution_count": null,
      "outputs": []
    }
  ]
}