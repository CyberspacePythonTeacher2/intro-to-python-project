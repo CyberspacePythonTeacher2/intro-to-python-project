{
  "nbformat": 4,
  "nbformat_minor": 0,
  "metadata": {
    "colab": {
      "name": " intro-to-python-project.ipynb",
      "provenance": [],
      "collapsed_sections": [],
      "authorship_tag": "ABX9TyMH3kaZRX5057VwMTOloFOy",
      "include_colab_link": true
    },
    "kernelspec": {
      "name": "python3",
      "display_name": "Python 3"
    },
    "language_info": {
      "name": "python"
    }
  },
  "cells": [
    {
      "cell_type": "markdown",
      "metadata": {
        "id": "view-in-github",
        "colab_type": "text"
      },
      "source": [
        "<a href=\"https://colab.research.google.com/github/CyberspacePythonTeacher2/intro-to-python-project/blob/main/intro_to_python_project.ipynb\" target=\"_parent\"><img src=\"https://colab.research.google.com/assets/colab-badge.svg\" alt=\"Open In Colab\"/></a>"
      ]
    },
    {
      "cell_type": "markdown",
      "source": [
        "# Rock Paper Scissors\n",
        "Repo for the project based approach of Intro to Python Bootcamp.\n",
        "\n",
        "- [Rock Paper Scissors](#rock-paper-scissors)\n",
        "  - [Introduction](#introduction)\n",
        "  - [Playing the game in Python](#playing-the-game-in-python)\n",
        "  - [Before Starting](#before-starting)\n",
        "  - [Week 1](#week-1)\n",
        "  - [Week 2](#week-2)\n",
        "  - [Week 3](#week-3)\n",
        "    - [If ... Else](#if--else)\n",
        "  - [Week 4](#week-4)\n",
        "  - [Week 5](#week-5)\n",
        "\n",
        "## Introduction\n",
        "\n",
        "In this project we are going to do a simple implementation of the game \"Rock Paper Scissors\" (aka **Schere, Stein, Papier** in German).\n",
        "It is a game that can be played between two or more players. The players can choose either “rock, paper, scissors”. Then each of the players simultaneously makes their hands in the shapes of Rock Paper Scissors.\n",
        "Some of you who might not know the game can check the [Wikipedia](https://en.wikipedia.org/wiki/Rock_paper_scissors) or this hilarious [Wikihow](https://www.wikihow.com/Play-Rock,-Paper,-Scissors). The game will be played in the command line interface.\n",
        "\n",
        "The winner is selected based on the following:\n",
        "\n",
        "- Rock smashes scissors\n",
        "- Paper covers rock\n",
        "- Scissors cut paper\n",
        "\n",
        "## Playing the game in Python\n",
        "- Take User Input\n",
        "- Make the Computer Choose\n",
        "- Determine a Winner\n",
        "\n",
        "\n",
        "\n",
        "## Before Starting\n",
        "\n",
        "1. Set up the project location using PyCharm where you will be doing the project. \n",
        "2. Test by using `print(\"Hello, World!\")` (you know, for good luck 😊).\n",
        "3. Commit and push your changes to the repository of your project.\n",
        "\n",
        "## Week 1\n",
        "\n",
        "Since in the first week we only learn to set up the development environment and did the Hello World exercise, we are going to implement the introduction message when we start the project program. It can be something as simple as\n",
        "\n",
        "```\n",
        "Welcome to the game of Rock Paper Scissors.\n",
        "```\n",
        "\n",
        "or it can be as epic as\n",
        "\n",
        "```\n",
        "The year is 20xx. The world is overrun by rogue AIs. You are now face to face with the hive mind of all the AIs, the RPS. The world hangs in balance on the game of Rock Paper Scissors that you are going to play against RPS.\n",
        "```\n",
        "\n",
        "It is up to you how you want to introduce to the player that runs your project.\n",
        "\n",
        "Code snippet for this week:"
      ],
      "metadata": {
        "id": "WPLiuBUebvhv"
      }
    },
    {
      "cell_type": "code",
      "source": [
        "print(\"Welcome to the game of Rock Paper Scissors.\")\n",
        "print(\"The winning rules for the game are as follows:\\n\"\n",
        "                                +\"   \"+\"Rock vs Paper    -> Paper wins\\n\"\n",
        "                                +\"   \"+\"Rock vs Scissors  -> Rock wins\\n\"\n",
        "                                +\"   \"+\"Paper vs Scissors -> Scissors wins\\n\")"
      ],
      "metadata": {
        "colab": {
          "base_uri": "https://localhost:8080/"
        },
        "id": "Q8zeJhGgcD5b",
        "outputId": "0885e992-8dde-42b1-b813-5d1f34defbfa"
      },
      "execution_count": 2,
      "outputs": [
        {
          "output_type": "stream",
          "name": "stdout",
          "text": [
            "Welcome to the game of Rock Paper Scissors.\n",
            "The winning rules for the game are as follows:\n",
            "   Rock vs Paper    -> Paper wins\n",
            "   Rock vs Scissors  -> Rock wins\n",
            "   Paper vs Scissors -> Scissors wins\n",
            "\n"
          ]
        }
      ]
    },
    {
      "cell_type": "markdown",
      "source": [
        "## Week 2\n",
        "\n",
        "Now that we've learnt about Variables and Booleans in week two, we are going to introduce these two elements into our project. We will add variables for the player's choice and also the computer's choice.\n",
        "\n",
        "Code snippet:"
      ],
      "metadata": {
        "id": "7ZJixSvwcuv8"
      }
    },
    {
      "cell_type": "code",
      "source": [
        "player_choice = \"rock\"# If player choice is rock and computer choice is paper then rock vs paper -> paper wins\n",
        "computer_choice = \"paper\" # Good ol rock, nothing beats that\n",
        "\n",
        "player_choice = \"rock\" #If player choice is rock and computer choice is scissors then rock vs scissors -> rock wins\n",
        "computer_choice = \"scissors\"\n",
        "\n",
        "player_choice = \"paper\" #If player choice is paper and computer choice is scissors then paper vs scissors -> scissors wins\n",
        "computer_choice = \"scissors\"\n",
        "\n",
        "print(\"Player's choice: \" + player_choice)\n",
        "print(\"Computer's choice: \" + computer_choice)"
      ],
      "metadata": {
        "colab": {
          "base_uri": "https://localhost:8080/"
        },
        "id": "w4RnvMeVc1B-",
        "outputId": "bb5de891-acb0-4afb-8849-411b84bb5d5f"
      },
      "execution_count": 3,
      "outputs": [
        {
          "output_type": "stream",
          "name": "stdout",
          "text": [
            "Player's choice: paper\n",
            "Computer's choice: scissors\n"
          ]
        }
      ]
    },
    {
      "cell_type": "markdown",
      "source": [
        "Since we have learned about Booleans in week two, we can also use booleans as a way to keep track of whether the player won or not."
      ],
      "metadata": {
        "id": "Q6c1-Adf55T0"
      }
    },
    {
      "cell_type": "code",
      "source": [
        "is_player_win = True\n",
        "print(\"Player win status: \" + str(is_player_win))  #this will print True, we have to typecast to string"
      ],
      "metadata": {
        "id": "u59S7vXy59kK",
        "outputId": "f9edc221-5e2d-490c-cc0a-17aa80b6fcdd",
        "colab": {
          "base_uri": "https://localhost:8080/"
        }
      },
      "execution_count": 4,
      "outputs": [
        {
          "output_type": "stream",
          "name": "stdout",
          "text": [
            "Player win status: True\n"
          ]
        }
      ]
    },
    {
      "cell_type": "markdown",
      "source": [
        "We can then structure the whole code to be more organized. The code snippet up to this point should look something like below.\n",
        "\n",
        "Code snippet for this week:"
      ],
      "metadata": {
        "id": "KzFdFZyo6G72"
      }
    },
    {
      "cell_type": "code",
      "source": [
        "# variable declaration\n",
        "player_choice = \"rock\"\n",
        "computer_choice = \"paper\" # Good ol rock, nothing beats that\n",
        "is_player_win = False\n",
        "is_computer_win= True\n",
        "\n",
        "# display message\n",
        "print(\"Welcome to the game of Rock Paper Scissors.\")\n",
        "\n",
        "# display choices\n",
        "print(\"Player's choice: \" + player_choice)\n",
        "print(\"Computer's choice: \" + computer_choice)\n",
        "\n",
        "# display who wins\n",
        "print(\"Is player wins:\",is_player_win)\n",
        "print(\"Is computer wins: \",is_computer_win)"
      ],
      "metadata": {
        "id": "bs8vhB3V6Hon",
        "outputId": "afd17e73-c7fa-45e7-fdb2-f5479b0d1fe0",
        "colab": {
          "base_uri": "https://localhost:8080/"
        }
      },
      "execution_count": 6,
      "outputs": [
        {
          "output_type": "stream",
          "name": "stdout",
          "text": [
            "Welcome to the game of Rock Paper Scissors.\n",
            "Player's choice: rock\n",
            "Computer's choice: paper\n",
            "Is player wins: False\n",
            "Is computer wins:  True\n"
          ]
        }
      ]
    }
  ]
}