{
  "nbformat": 4,
  "nbformat_minor": 0,
  "metadata": {
    "colab": {
      "name": " intro-to-python-project.ipynb",
      "provenance": [],
      "collapsed_sections": [],
      "authorship_tag": "ABX9TyNojXuTqVVqLwvm7Y+mPbsJ",
      "include_colab_link": true
    },
    "kernelspec": {
      "name": "python3",
      "display_name": "Python 3"
    },
    "language_info": {
      "name": "python"
    }
  },
  "cells": [
    {
      "cell_type": "markdown",
      "metadata": {
        "id": "view-in-github",
        "colab_type": "text"
      },
      "source": [
        "<a href=\"https://colab.research.google.com/github/CyberspacePythonTeacher2/intro-to-python-project/blob/main/intro_to_python_project.ipynb\" target=\"_parent\"><img src=\"https://colab.research.google.com/assets/colab-badge.svg\" alt=\"Open In Colab\"/></a>"
      ]
    },
    {
      "cell_type": "markdown",
      "source": [
        "# Rock Paper Scissors\n",
        "Jupyter Notebook for the project based approach of Intro to Python Bootcamp.\n",
        "\n",
        "## Introduction\n",
        "\n",
        "In this project we are going to do a simple implementation of the game \"Rock Paper Scissors\" (aka **Schere, Stein, Papier** in German).\n",
        "It is a game that can be played between two or more players. The players can choose either “rock, paper, scissors”. Then each of the players simultaneously makes their hands in the shapes of Rock Paper Scissors.\n",
        "Some of you who might not know the game can check the [Wikipedia](https://en.wikipedia.org/wiki/Rock_paper_scissors) or this hilarious [Wikihow](https://www.wikihow.com/Play-Rock,-Paper,-Scissors). The game will be played in the command line interface.\n",
        "\n",
        "The winner is selected based on the following:\n",
        "\n",
        "- Rock smashes scissors\n",
        "- Paper covers rock\n",
        "- Scissors cut paper\n",
        "\n",
        "## Playing the game in Python\n",
        "- Take User Input\n",
        "- Make the Computer Choose\n",
        "- Determine a Winner\n",
        "\n",
        "\n",
        "\n",
        "## Before Starting\n",
        "\n",
        "1. Set up the project location using PyCharm where you will be doing the project. \n",
        "2. Test by using `print(\"Hello, World!\")` (you know, for good luck 😊).\n",
        "3. Commit and push your changes to the repository of your project.\n",
        "\n",
        "## Week 1\n",
        "\n",
        "Since in the first week we only learn to set up the development environment and did the Hello World exercise, we are going to implement the introduction message when we start the project program. It can be something as simple as\n",
        "\n",
        "```\n",
        "Welcome to the game of Rock Paper Scissors.\n",
        "```\n",
        "\n",
        "or it can be as epic as\n",
        "\n",
        "```\n",
        "The year is 20xx. The world is overrun by rogue AIs. You are now face to face with the hive mind of all the AIs, the RPS. The world hangs in balance on the game of Rock Paper Scissors that you are going to play against RPS.\n",
        "```\n",
        "\n",
        "It is up to you how you want to introduce to the player that runs your project.\n",
        "\n",
        "Code snippet for this week:"
      ],
      "metadata": {
        "id": "WPLiuBUebvhv"
      }
    },
    {
      "cell_type": "code",
      "source": [
        "print(\"Welcome to the game of Rock Paper Scissors.\")\n",
        "print(\"The winning rules for the game are as follows:\\n\"\n",
        "                                +\"   \"+\"Rock vs Paper    -> Paper wins\\n\"\n",
        "                                +\"   \"+\"Rock vs Scissors  -> Rock wins\\n\"\n",
        "                                +\"   \"+\"Paper vs Scissors -> Scissors wins\\n\")"
      ],
      "metadata": {
        "colab": {
          "base_uri": "https://localhost:8080/"
        },
        "id": "Q8zeJhGgcD5b",
        "outputId": "0885e992-8dde-42b1-b813-5d1f34defbfa"
      },
      "execution_count": null,
      "outputs": [
        {
          "output_type": "stream",
          "name": "stdout",
          "text": [
            "Welcome to the game of Rock Paper Scissors.\n",
            "The winning rules for the game are as follows:\n",
            "   Rock vs Paper    -> Paper wins\n",
            "   Rock vs Scissors  -> Rock wins\n",
            "   Paper vs Scissors -> Scissors wins\n",
            "\n"
          ]
        }
      ]
    },
    {
      "cell_type": "markdown",
      "source": [
        "## Week 2\n",
        "\n",
        "Now that we've learnt about Variables and Booleans in week two, we are going to introduce these two elements into our project. We will add variables for the player's choice and also the computer's choice.\n",
        "\n",
        "Code snippet:"
      ],
      "metadata": {
        "id": "7ZJixSvwcuv8"
      }
    },
    {
      "cell_type": "code",
      "source": [
        "player_choice = \"rock\"# If player choice is rock and computer choice is paper then rock vs paper -> paper wins\n",
        "computer_choice = \"paper\" # Good ol rock, nothing beats that\n",
        "\n",
        "player_choice = \"rock\" #If player choice is rock and computer choice is scissors then rock vs scissors -> rock wins\n",
        "computer_choice = \"scissors\"\n",
        "\n",
        "player_choice = \"paper\" #If player choice is paper and computer choice is scissors then paper vs scissors -> scissors wins\n",
        "computer_choice = \"scissors\"\n",
        "\n",
        "print(\"Player's choice: \" + player_choice)\n",
        "print(\"Computer's choice: \" + computer_choice)"
      ],
      "metadata": {
        "colab": {
          "base_uri": "https://localhost:8080/"
        },
        "id": "w4RnvMeVc1B-",
        "outputId": "bb5de891-acb0-4afb-8849-411b84bb5d5f"
      },
      "execution_count": null,
      "outputs": [
        {
          "output_type": "stream",
          "name": "stdout",
          "text": [
            "Player's choice: paper\n",
            "Computer's choice: scissors\n"
          ]
        }
      ]
    },
    {
      "cell_type": "markdown",
      "source": [
        "Since we have learned about Booleans in week two, we can also use booleans as a way to keep track of whether the player won or not."
      ],
      "metadata": {
        "id": "Q6c1-Adf55T0"
      }
    },
    {
      "cell_type": "code",
      "source": [
        "is_player_win = True\n",
        "print(\"Player win status: \" + str(is_player_win))  #this will print True, we have to typecast to string"
      ],
      "metadata": {
        "id": "u59S7vXy59kK",
        "outputId": "f9edc221-5e2d-490c-cc0a-17aa80b6fcdd",
        "colab": {
          "base_uri": "https://localhost:8080/"
        }
      },
      "execution_count": null,
      "outputs": [
        {
          "output_type": "stream",
          "name": "stdout",
          "text": [
            "Player win status: True\n"
          ]
        }
      ]
    },
    {
      "cell_type": "markdown",
      "source": [
        "We can then structure the whole code to be more organized. The code snippet up to this point should look something like below.\n",
        "\n",
        "Code snippet for this week:"
      ],
      "metadata": {
        "id": "KzFdFZyo6G72"
      }
    },
    {
      "cell_type": "code",
      "source": [
        "# variable declaration\n",
        "player_choice = \"rock\"\n",
        "computer_choice = \"paper\" # Good ol rock, nothing beats that\n",
        "is_player_win = False\n",
        "is_computer_win= True\n",
        "\n",
        "# display message\n",
        "print(\"Welcome to the game of Rock Paper Scissors.\")\n",
        "\n",
        "# display choices\n",
        "print(\"Player's choice: \" + player_choice)\n",
        "print(\"Computer's choice: \" + computer_choice)\n",
        "\n",
        "# display who wins\n",
        "print(\"Is player wins:\",is_player_win)\n",
        "print(\"Is computer wins: \",is_computer_win)"
      ],
      "metadata": {
        "id": "bs8vhB3V6Hon",
        "outputId": "afd17e73-c7fa-45e7-fdb2-f5479b0d1fe0",
        "colab": {
          "base_uri": "https://localhost:8080/"
        }
      },
      "execution_count": null,
      "outputs": [
        {
          "output_type": "stream",
          "name": "stdout",
          "text": [
            "Welcome to the game of Rock Paper Scissors.\n",
            "Player's choice: rock\n",
            "Computer's choice: paper\n",
            "Is player wins: False\n",
            "Is computer wins:  True\n"
          ]
        }
      ]
    },
    {
      "cell_type": "markdown",
      "source": [
        "## Week 3\n",
        "\n",
        "In this week we learnt about loops, operators and conditions and we will introduce them to our project up to this point. We also learnt about functions, then we can introduce them to the project as well.\n",
        "\n",
        "For the loops, we are going to use it to control how many rounds are played. We will also use operators to manipulate the round number and we use condition to determine when the while loop is exited.\n",
        "\n",
        "### If ... Else\n",
        "Using the If and else statement we can play the game statically."
      ],
      "metadata": {
        "id": "F_Mc1iM5ppXy"
      }
    },
    {
      "cell_type": "code",
      "source": [
        "choice1 = \"rock\"\n",
        "choice2 = \"paper\"\n",
        "choice3 = \"scissors\"\n",
        "player_choice = \"\"#You can assign for this variable (rock, paper, scissors)\n",
        "computer_choice = \"\"#You can assign for this variable (rock, paper, scissors)\n",
        "\n",
        "if player_choice == \"rock\":\n",
        "  if computer_choice == \"paper\":\n",
        "     print(\"The winner is:\", choice2)\n",
        "if player_choice == \"rock\":\n",
        "   if computer_choice == \"scissors\":\n",
        "        print(\"The winner is:\", choice1)\n",
        "elif player_choice == \"paper\":\n",
        "  if computer_choice == \"scissors\":\n",
        "    print(\"The winner is:\", choice3)"
      ],
      "metadata": {
        "id": "65typhRHpxv1"
      },
      "execution_count": null,
      "outputs": []
    },
    {
      "cell_type": "markdown",
      "source": [
        "Code snippet:"
      ],
      "metadata": {
        "id": "ZTARpSIFqXRF"
      }
    },
    {
      "cell_type": "code",
      "source": [
        "current_round = 0\n",
        "number_of_rounds = 3\n",
        "\n",
        "while current_round != number_of_rounds: # while loop with condition\n",
        "  print(\"Current round: \" + str(current_round + 1))\n",
        "  current_round = current_round + 1 # operator to manipulate the round number"
      ],
      "metadata": {
        "id": "PyLuaKKeqZz1",
        "outputId": "5302ced9-56ec-45a4-a6fd-daf4f143a95b",
        "colab": {
          "base_uri": "https://localhost:8080/"
        }
      },
      "execution_count": null,
      "outputs": [
        {
          "output_type": "stream",
          "name": "stdout",
          "text": [
            "Current round: 1\n",
            "Current round: 2\n",
            "Current round: 3\n"
          ]
        }
      ]
    },
    {
      "cell_type": "markdown",
      "source": [
        "As for function, we are going to make a function where the computer will make it's choice to play against the player.\n",
        "\n",
        "Code snippet:"
      ],
      "metadata": {
        "id": "CW-lFDmJqhsL"
      }
    },
    {
      "cell_type": "code",
      "source": [
        "def computer_play():\n",
        "  return \"rock\" # Good ol rock, nothing beats that"
      ],
      "metadata": {
        "id": "DleWiQpNqigg"
      },
      "execution_count": null,
      "outputs": []
    },
    {
      "cell_type": "markdown",
      "source": [
        "We can then combine the code snippets below with the rest of our code.\n",
        "\n",
        "Code snippet for this week:"
      ],
      "metadata": {
        "id": "gJmo77vIqlC1"
      }
    },
    {
      "cell_type": "code",
      "source": [
        "# variable declaration\n",
        "player_choice = \"paper\"\n",
        "is_player_win = True\n",
        "current_round = 0\n",
        "number_of_rounds = 3\n",
        "\n",
        "def computer_play():\n",
        "  return \"rock\" # Good ol rock, nothing beats that\n",
        "\n",
        "# display message\n",
        "print(\"Welcome to the game of Rock Paper Scissors.\")\n",
        "\n",
        "while current_round != number_of_rounds: # while loop with condition\n",
        "  print(\"Current round: \" + str(current_round + 1)) # we should show 1 instead of 0 for the first round\n",
        "  computer_choice = computer_play()\n",
        "\n",
        "  # display choices\n",
        "  print(\"Player's choice: \" + player_choice)\n",
        "  print(\"Computer's choice: \" + computer_choice)\n",
        "\n",
        "  current_round = current_round + 1 # operator to manipulate the round number\n",
        "\n",
        "# display whether player wins\n",
        "print(\"Player win status: \" + str(is_player_win)) #this will print True, we have to typecast to string"
      ],
      "metadata": {
        "id": "CddAdHZ0qqg4",
        "outputId": "e6a38aa1-7894-4cdb-91c4-127dac056faf",
        "colab": {
          "base_uri": "https://localhost:8080/"
        }
      },
      "execution_count": null,
      "outputs": [
        {
          "output_type": "stream",
          "name": "stdout",
          "text": [
            "Welcome to the game of Rock Paper Scissors.\n",
            "Current round: 1\n",
            "Player's choice: paper\n",
            "Computer's choice: rock\n",
            "Current round: 2\n",
            "Player's choice: paper\n",
            "Computer's choice: rock\n",
            "Current round: 3\n",
            "Player's choice: paper\n",
            "Computer's choice: rock\n",
            "Player win status: True\n"
          ]
        }
      ]
    },
    {
      "cell_type": "markdown",
      "source": [
        "## Week 4\n",
        "As for week four, we learned how to use the python library and how to import module.Now here based on the need of the project we import the random module.\n",
        "Python Random module is an in-built module of Python which is used to generate random numbers.It returns a random number between 0.0 and 1.0.\n",
        "\n",
        "Code snippet:"
      ],
      "metadata": {
        "id": "t3qTLV4WfXAB"
      }
    },
    {
      "cell_type": "code",
      "source": [
        "import random\n",
        "print(random.random())"
      ],
      "metadata": {
        "id": "A5SBEEC9faGx",
        "outputId": "aaf04c7d-5f9e-4eae-98de-e584d8c24529",
        "colab": {
          "base_uri": "https://localhost:8080/"
        }
      },
      "execution_count": null,
      "outputs": [
        {
          "output_type": "stream",
          "name": "stdout",
          "text": [
            "0.23319158480828117\n"
          ]
        }
      ]
    },
    {
      "cell_type": "markdown",
      "source": [
        "As the game is played between two players, one is the user and the other is the computer. For the computer to make the selection, we need to use the random() module, that the (rock, paper, scissors) could be selected randomly.\n",
        "\n",
        "Code snippet for this week:"
      ],
      "metadata": {
        "id": "gtKRW_Wffh7K"
      }
    },
    {
      "cell_type": "code",
      "source": [
        "# import random module\n",
        "import random\n",
        "# display message\n",
        "print(\"Welcome to the game of Rock Paper Scissors.\")\n",
        "\n",
        "#runs without any conditions until the break statement executes inside the loop.\n",
        "while True:\n",
        "\tprint(\"Enter your choice \\n 1 for Rock \\n 2 for Paper \\n 3 for Scissors \\n\")\n",
        " \n",
        " \t# take the input from the user for making a selection\n",
        "\tplayer_choice = int(input(\"Player's turn: \"))\n",
        " \n",
        " #looping until user enter invalid input\n",
        "\twhile player_choice > 3 or player_choice < 1:\n",
        "\t\tplayer_choice = int(input(\"Your input is not valid, please enter a value between 1,3: \"))\n",
        "\t\t\n",
        "\tif player_choice == 1:\n",
        "\t\tplayer_select = 'rock'\n",
        "\telif player_choice == 2:\n",
        "\t\tplayer_select = 'paper'\n",
        "\telse:\n",
        "\t\tplayer_select = 'scissors'\n",
        "\n",
        "  # print user choice\n",
        "\tprint(\"The user has selected: \" + player_select.capitalize())\n",
        "\tprint(\"\\nComputer's turn.......\")\n",
        " \n",
        " #We make a specific interval that the computer choose a random  number between (1,3)\n",
        "\tcomputer_choice = random.randint(1, 3)\n",
        "\n",
        "# It is okay if the computer makes the same choice\n",
        "\n",
        "\tif computer_choice == 1:\n",
        "\t\tcomputer_select = 'rock'\n",
        "\telif computer_choice == 2:\n",
        "\t\tcomputer_select = 'paper'\n",
        "\telse:\n",
        "\t\tcomputer_select= 'scissors'\n",
        "\t\t\n",
        "\tprint(\"Computer has selected: \" + computer_select.capitalize())\n",
        "\n",
        "\tprint(player_select.capitalize() + \" Vs \" + computer_select.capitalize())\n",
        " #for ending the loop\n",
        "\tbreak"
      ],
      "metadata": {
        "id": "xyAsqvHsfk1t",
        "outputId": "923ff1b3-2f8b-4c10-cc22-dda60ba951d0",
        "colab": {
          "base_uri": "https://localhost:8080/"
        }
      },
      "execution_count": null,
      "outputs": [
        {
          "output_type": "stream",
          "name": "stdout",
          "text": [
            "Welcome to the game of Rock Paper Scissors.\n",
            "Enter your choice \n",
            " 1 for Rock \n",
            " 2 for Paper \n",
            " 3 for Scissors \n",
            "\n",
            "Player's turn: 1\n",
            "The user has selected: Rock\n",
            "\n",
            "Computer's turn.......\n",
            "Computer has selected: Paper\n",
            "Rock Vs Paper\n"
          ]
        }
      ]
    },
    {
      "cell_type": "markdown",
      "source": [
        "## Week 5\n",
        "\n",
        "Home stretch. We are going to clean up and put some final touches to the game so that we can play it. First we will define a function for the computer to make the choice.\n",
        "\n",
        "Code snippet:"
      ],
      "metadata": {
        "id": "wNQaba97iEF0"
      }
    },
    {
      "cell_type": "code",
      "source": [
        "import random\n",
        "\n",
        "# global variable\n",
        "computer_select = ''\n",
        "\n",
        "def get_computer_selection():\n",
        "  global computer_select\n",
        "  print(\"\\n Computer turn.......\")\n",
        "\n",
        "  #We make a specific interval that the computer choose a random  number between (1,3)\n",
        "  computer_choice = random.randint(1, 3)\n",
        "\n",
        "  # It is okay if the computer makes the same choice\n",
        "\n",
        "  if computer_choice == 1:\n",
        "    computer_select = 'rock'\n",
        "  elif computer_choice == 2:\n",
        "    computer_select = 'paper'\n",
        "  else:\n",
        "     computer_select= 'scissor'"
      ],
      "metadata": {
        "id": "dA8vIs2KiMQE"
      },
      "execution_count": null,
      "outputs": []
    },
    {
      "cell_type": "markdown",
      "source": [
        "This way, we can call the function `get_computer_selection()` whenever the computer has to play the turn."
      ],
      "metadata": {
        "id": "00QZLRYXiPmY"
      }
    },
    {
      "cell_type": "code",
      "source": [
        "get_computer_selection()\n",
        "print(\"Computer has selected: \" + computer_select)"
      ],
      "metadata": {
        "id": "WOKQtzDAiUmy"
      },
      "execution_count": null,
      "outputs": []
    },
    {
      "cell_type": "markdown",
      "source": [
        "We can also make functions that increase the score of the player or the computer. For this example we will make a function to increase the score of the player.\n",
        "\n",
        "Code snippet:"
      ],
      "metadata": {
        "id": "hjGGjbSRiV_q"
      }
    },
    {
      "cell_type": "code",
      "source": [
        "# initialize score\n",
        "player_score = 0\n",
        "\n",
        "def player_win_round():\n",
        "  global player_score\n",
        "  player_score += 1"
      ],
      "metadata": {
        "id": "w6TWkQJGiY1W"
      },
      "execution_count": null,
      "outputs": []
    },
    {
      "cell_type": "markdown",
      "source": [
        "This way, the player score is incremented by one when the player wins the round.\n",
        "\n",
        "Last but not least, since we are keeping track of the score, we should also ask the player the amount of points to win the game. We can prompt this input at the beginning of the game.\n",
        "\n",
        "Code snippet:"
      ],
      "metadata": {
        "id": "7dCuQqIoic31"
      }
    },
    {
      "cell_type": "code",
      "source": [
        "# initialize points to win\n",
        "points_to_win = 0\n",
        "\n",
        "print(\"Enter the amount of points to win.\")\n",
        "# take the input from the user for the amount of points to win\n",
        "points_to_win = int(input(\"Points to win: \"))"
      ],
      "metadata": {
        "id": "3_AOWFneieqq"
      },
      "execution_count": null,
      "outputs": []
    },
    {
      "cell_type": "markdown",
      "source": [
        "We can then use a while loop to make the player play the game until either the player or the computer reaches the amount of points to win.\n",
        "\n",
        "Code snippet:"
      ],
      "metadata": {
        "id": "kOpkMWK7ijs1"
      }
    },
    {
      "cell_type": "code",
      "source": [
        "while player_score < points_to_win and computer_score < points_to_win:\n",
        "  # play the game"
      ],
      "metadata": {
        "id": "4VBM_Xboikka"
      },
      "execution_count": null,
      "outputs": []
    },
    {
      "cell_type": "markdown",
      "source": [
        "We also have to do the condition handling on who wins the round by comparing the choice of the player and the computer. We can do something like this for example.\n",
        "\n",
        "Code snippet:"
      ],
      "metadata": {
        "id": "pRlQuwt0imo3"
      }
    },
    {
      "cell_type": "code",
      "source": [
        "if player_select == computer_select:\n",
        "  print(player_select.capitalize() + \" Vs \" + computer_select.capitalize() + \", It's a draw!\")\n",
        "if player_select == 'paper' and computer_select == 'rock':\n",
        "  print(player_select.capitalize() + \" Vs \" + computer_select.capitalize() + \", Player wins the round!\")"
      ],
      "metadata": {
        "id": "bbjtdS7BipKQ"
      },
      "execution_count": 6,
      "outputs": []
    },
    {
      "cell_type": "markdown",
      "source": [
        "Now that we have all the pieces needed, we are going to combine them with what we have from week 4 and finally make a complete Rock, Paper, Scissors game!\n",
        "\n",
        "Code snippet for this week:"
      ],
      "metadata": {
        "id": "HwAKDQa5i1P7"
      }
    },
    {
      "cell_type": "code",
      "source": [
        "# import random module\n",
        "import random\n",
        "\n",
        "#variable initialization\n",
        "points_to_win = 0\n",
        "player_score = 0\n",
        "computer_score = 0\n",
        "player_select = ''\n",
        "computer_select = ''\n",
        "\n",
        "# function if player wins round\n",
        "def player_win_round():\n",
        "  global player_score\n",
        "  player_score += 1\n",
        "  print(player_select.capitalize() + \" Vs \" + computer_select.capitalize() + \", Player wins the round!\")\n",
        "\n",
        "# function if computer wins round\n",
        "def computer_win_round():\n",
        "  global computer_score\n",
        "  computer_score += 1\n",
        "  print(player_select.capitalize() + \" Vs \" + computer_select.capitalize() + \", Computer wins the round!\")\n",
        "\n",
        "# function for the computer selection\n",
        "def get_computer_selection():\n",
        "  global computer_select\n",
        "\n",
        "  print(\"\\nComputer's turn.......\")\n",
        "\n",
        "  #We make a specific interval that the computer choose a random  number between (1,3)\n",
        "  computer_choice = random.randint(1, 3)\n",
        "\n",
        "  # It is okay if the computer makes the same choice\n",
        "\n",
        "  if computer_choice == 1:\n",
        "    computer_select = 'rock'\n",
        "  elif computer_choice == 2:\n",
        "    computer_select = 'paper'\n",
        "  else:\n",
        "     computer_select= 'scissors'\n",
        "\n",
        "  print(\"Computer has selected: \" + computer_select.capitalize())\n",
        "\n",
        "def get_player_selection():\n",
        "  global player_select\n",
        "  print(\"\\nEnter your choice: \\n 1 for Rock \\n 2 for Paper \\n 3 for Scissors \\n\")\n",
        " \n",
        " \t# take the input from the user for making a selection\n",
        "  player_choice = int(input(\"Player's turn: \"))\n",
        " \n",
        " #looping until user enter invalid input\n",
        "  while player_choice > 3 or player_choice < 1:\n",
        "     player_choice = int(input(\"Your input is not valid, please enter a value between 1,3: \"))\n",
        "\t\t\n",
        "  if player_choice == 1:\n",
        "    player_select = 'rock'\n",
        "  elif player_choice == 2:\n",
        "    player_select = 'paper'\n",
        "  else:\n",
        "    player_select = 'scissors'\n",
        "\n",
        "  # print user choice\n",
        "  print(\"The player has selected: \" + player_select.capitalize())\n",
        "\n",
        "\n",
        "# display message\n",
        "print(\"Welcome to the game of Rock Paper Scissors.\")\n",
        "\n",
        "print(\"Enter the amount of points to win.\")\n",
        "# take the input from the user for the amount of points to win\n",
        "points_to_win = int(input(\"Points to win: \"))\n",
        "\n",
        "#runs the loop as long as the player points or computer \n",
        "while player_score < points_to_win and computer_score < points_to_win:\n",
        "\t\n",
        "  get_player_selection()\n",
        "  get_computer_selection()\n",
        "\n",
        "  if player_select == computer_select:\n",
        "    print(player_select.capitalize() + \" Vs \" + computer_select.capitalize() + \", It's a draw!\")\n",
        "  elif player_select == 'paper' and computer_select == 'rock':\n",
        "    player_win_round()\n",
        "  elif player_select == 'rock' and computer_select == 'scissors':\n",
        "    player_win_round()\n",
        "  elif player_select == 'scissors' and computer_select == 'paper':\n",
        "    player_win_round()\n",
        "  else:\n",
        "    computer_win_round()\n",
        "\n",
        "  print(\"\\nThe score is \" + str(player_score) + \" to \" + str(computer_score))\n",
        "\n",
        "if player_score == points_to_win:\n",
        "  print(\"\\nPlayer wins the game!\")\n",
        "else:\n",
        "  print(\"\\nComputer wins the game!\")\n"
      ],
      "metadata": {
        "id": "Y59fLy5Ai3Vq"
      },
      "execution_count": null,
      "outputs": []
    },
    {
      "cell_type": "markdown",
      "source": [
        "And that ladies and gentlemen, we have coded our first game of \"Rock, Paper, Scissors\". Of course, this does not mean that this is the end. Feel free to change and put your personal touch to make it your own. Good luck!"
      ],
      "metadata": {
        "id": "8C8mJJoai7js"
      }
    }
  ]
}